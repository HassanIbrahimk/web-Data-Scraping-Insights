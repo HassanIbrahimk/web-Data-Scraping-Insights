{
 "cells": [
  {
   "cell_type": "code",
   "execution_count": 1,
   "id": "e478da02-8c6d-4892-8e0c-a492be2b6ce1",
   "metadata": {},
   "outputs": [],
   "source": [
    "import requests\n",
    "from bs4 import BeautifulSoup"
   ]
  },
  {
   "cell_type": "code",
   "execution_count": 2,
   "id": "46be71c8-7675-4830-918a-3611953ed322",
   "metadata": {},
   "outputs": [
    {
     "name": "stdout",
     "output_type": "stream",
     "text": [
      " Title: A Light in the Attic\n",
      " Price: Â£51.77\n",
      " Rating: Three\n",
      "----------------------\n",
      " Title: Tipping the Velvet\n",
      " Price: Â£53.74\n",
      " Rating: One\n",
      "----------------------\n",
      " Title: Soumission\n",
      " Price: Â£50.10\n",
      " Rating: One\n",
      "----------------------\n",
      " Title: Sharp Objects\n",
      " Price: Â£47.82\n",
      " Rating: Four\n",
      "----------------------\n",
      " Title: Sapiens: A Brief History of Humankind\n",
      " Price: Â£54.23\n",
      " Rating: Five\n",
      "----------------------\n",
      " Title: The Requiem Red\n",
      " Price: Â£22.65\n",
      " Rating: One\n",
      "----------------------\n",
      " Title: The Dirty Little Secrets of Getting Your Dream Job\n",
      " Price: Â£33.34\n",
      " Rating: Four\n",
      "----------------------\n",
      " Title: The Coming Woman: A Novel Based on the Life of the Infamous Feminist, Victoria Woodhull\n",
      " Price: Â£17.93\n",
      " Rating: Three\n",
      "----------------------\n",
      " Title: The Boys in the Boat: Nine Americans and Their Epic Quest for Gold at the 1936 Berlin Olympics\n",
      " Price: Â£22.60\n",
      " Rating: Four\n",
      "----------------------\n",
      " Title: The Black Maria\n",
      " Price: Â£52.15\n",
      " Rating: One\n",
      "----------------------\n",
      " Title: Starving Hearts (Triangular Trade Trilogy, #1)\n",
      " Price: Â£13.99\n",
      " Rating: Two\n",
      "----------------------\n",
      " Title: Shakespeare's Sonnets\n",
      " Price: Â£20.66\n",
      " Rating: Four\n",
      "----------------------\n",
      " Title: Set Me Free\n",
      " Price: Â£17.46\n",
      " Rating: Five\n",
      "----------------------\n",
      " Title: Scott Pilgrim's Precious Little Life (Scott Pilgrim #1)\n",
      " Price: Â£52.29\n",
      " Rating: Five\n",
      "----------------------\n",
      " Title: Rip it Up and Start Again\n",
      " Price: Â£35.02\n",
      " Rating: Five\n",
      "----------------------\n",
      " Title: Our Band Could Be Your Life: Scenes from the American Indie Underground, 1981-1991\n",
      " Price: Â£57.25\n",
      " Rating: Three\n",
      "----------------------\n",
      " Title: Olio\n",
      " Price: Â£23.88\n",
      " Rating: One\n",
      "----------------------\n",
      " Title: Mesaerion: The Best Science Fiction Stories 1800-1849\n",
      " Price: Â£37.59\n",
      " Rating: One\n",
      "----------------------\n",
      " Title: Libertarianism for Beginners\n",
      " Price: Â£51.33\n",
      " Rating: Two\n",
      "----------------------\n",
      " Title: It's Only the Himalayas\n",
      " Price: Â£45.17\n",
      " Rating: Two\n",
      "----------------------\n"
     ]
    }
   ],
   "source": [
    "url = 'https://books.toscrape.com/catalogue/page-1.html'\n",
    "response = requests.get(url)\n",
    "soup = BeautifulSoup(response.text, 'html.parser')\n",
    "books = soup.find_all('article', class_='product_pod')\n",
    "for book in books:\n",
    "    title = book.h3.a['title']\n",
    "    price = book.find('p', class_='price_color').text\n",
    "    rating_class = book.find('p')['class'][1]\n",
    "    \n",
    "\n",
    "    print(f\" Title: {title}\")\n",
    "    print(f\" Price: {price}\")\n",
    "    print(f\" Rating: {rating_class}\")\n",
    "    print('----------------------')\n"
   ]
  },
  {
   "cell_type": "code",
   "execution_count": 4,
   "id": "4effb4f5-a08b-404c-84bf-6e405adc3d43",
   "metadata": {},
   "outputs": [],
   "source": [
    "import csv\n",
    "\n",
    "# نجهز الملف\n",
    "with open('books_data.csv', 'w', newline='', encoding='utf-8') as file:\n",
    "    writer = csv.writer(file)\n",
    "    writer.writerow(['Title', 'Price', 'Rating'])  # العناوين\n",
    "\n",
    "    # نعيد نفس اللوب\n",
    "    for book in books:\n",
    "        title = book.h3.a['title']\n",
    "        price = book.find('p', class_='price_color').text\n",
    "        rating_class = book.find('p')['class'][1]\n",
    "\n",
    "        writer.writerow([title, price, rating_class])\n"
   ]
  },
  {
   "cell_type": "code",
   "execution_count": null,
   "id": "225b2487-c8c4-4389-9b0b-d74fef4de6d9",
   "metadata": {},
   "outputs": [],
   "source": [
    "import csv\n",
    "import re\n",
    "\n",
    "cleaned_data = []\n",
    "\n",
    "# نقرأ الملف اللي عملناه قبل كده\n",
    "with open('books_data.csv', 'r', encoding='utf-8') as file:\n",
    "    reader = csv.DictReader(file)\n",
    "    for row in reader:\n",
    "        title = row['Title']\n",
    "\n",
    "        #  نشيل رمز العملة باستخدام regex\n",
    "        price = re.sub(r'[^\\d.]', '', row['Price']) # ة\n",
    "        price = float(price)\n",
    "\n",
    "        ratings_dict = {\n",
    "            'One': 1,\n",
    "            'Two': 2,\n",
    "            'Three': 3,\n",
    "            'Four': 4,\n",
    "            'Five': 5\n",
    "        }\n",
    "        rating = ratings_dict.get(row['Rating'], 0)\n",
    "\n",
    "        cleaned_data.append([title, price, rating])\n",
    "\n",
    "# نكتب البيانات النضيفة في ملف جديد\n",
    "with open('books_data_cleaned.csv', 'w', newline='', encoding='utf-8') as file:\n",
    "    writer = csv.writer(file)\n",
    "    writer.writerow(['Title', 'Price', 'Rating'])\n",
    "    writer.writerows(cleaned_data)\n"
   ]
  },
  {
   "cell_type": "code",
   "execution_count": 6,
   "id": "8e6c669d-e266-4527-a997-3b85ab565a75",
   "metadata": {},
   "outputs": [
    {
     "name": "stdout",
     "output_type": "stream",
     "text": [
      "Basic Statistics:\n",
      "           Price     Rating\n",
      "count  20.000000  20.000000\n",
      "mean   38.048500   2.850000\n",
      "std    15.135231   1.565248\n",
      "min    13.990000   1.000000\n",
      "25%    22.637500   1.000000\n",
      "50%    41.380000   3.000000\n",
      "75%    51.865000   4.000000\n",
      "max    57.250000   5.000000\n",
      "Average Price: 38.05\n",
      "Median Price: 41.38\n",
      "Rating Distribution:\n",
      "Rating\n",
      "1    6\n",
      "4    4\n",
      "5    4\n",
      "3    3\n",
      "2    3\n",
      "Name: count, dtype: int64\n",
      "\n",
      "Most Expensive Book: Our Band Could Be Your Life: Scenes from the American Indie Underground, 1981-1991 - Price: 57.25\n",
      "Highest Rated Book: Sapiens: A Brief History of Humankind - Rating: 5\n"
     ]
    }
   ],
   "source": [
    "import pandas as pd\n",
    "\n",
    "# نقرأ البيانات الي اتعملها كلين\n",
    "df = pd.read_csv('books_data_cleaned.csv')\n",
    "\n",
    "#  حساب الإحصائيات الأساسية\n",
    "print(\"Basic Statistics:\")\n",
    "print(df.describe())\n",
    "\n",
    "#  حساب متوسط السعر\n",
    "average_price = df['Price'].mean()\n",
    "print(f\"Average Price: {average_price:.2f}\")\n",
    "\n",
    "#  حساب  (Median) للسعر\n",
    "median_price = df['Price'].median()\n",
    "print(f\"Median Price: {median_price:.2f}\")\n",
    "\n",
    "# (Rating)\n",
    "rating_distribution = df['Rating'].value_counts()\n",
    "print(f\"Rating Distribution:\\n{rating_distribution}\")\n",
    "\n",
    "#  العثور على الكتب الأعلى تقييمًا أو الأعلى سعرًا\n",
    "max_price_book = df.loc[df['Price'].idxmax()]\n",
    "max_rating_book = df.loc[df['Rating'].idxmax()]\n",
    "\n",
    "print(f\"\\nMost Expensive Book: {max_price_book['Title']} - Price: {max_price_book['Price']}\")\n",
    "print(f\"Highest Rated Book: {max_rating_book['Title']} - Rating: {max_rating_book['Rating']}\")\n"
   ]
  },
  {
   "cell_type": "code",
   "execution_count": 7,
   "id": "95147192-c132-4667-a562-f0bbafbdd0b4",
   "metadata": {},
   "outputs": [
    {
     "data": {
      "image/png": "[encoded data removed]",
      "text/plain": [
       "<Figure size 640x480 with 1 Axes>"
      ]
     },
     "metadata": {},
     "output_type": "display_data"
    }
   ],
   "source": [
    "import seaborn as sns\n",
    "import matplotlib.pyplot as plt\n",
    "sns.countplot(x='Rating', data=df, hue='Rating', palette='Set2', legend=False)\n",
    "plt.title('Distribution of Book Ratings')\n",
    "plt.xlabel('Rating')\n",
    "plt.ylabel('Count')\n",
    "plt.show()\n"
   ]
  },
  {
   "cell_type": "code",
   "execution_count": null,
   "id": "06bdae7a-f6ce-45bc-afc6-c852a8323765",
   "metadata": {},
   "outputs": [
    {
     "data": {
      "image/png": "[encoded data removed]",
      "text/plain": [
       "<Figure size 640x480 with 1 Axes>"
      ]
     },
     "metadata": {},
     "output_type": "display_data"
    }
   ],
   "source": [
    "import seaborn as sns\n",
    "import matplotlib.pyplot as plt\n",
    "\n",
    "# رسم العلاقة بين السعر والتقييم ـ plot\n",
    "sns.scatterplot(data=df, x='Price', y='Rating', hue='Rating', palette='coolwarm')\n",
    "\n",
    "# تحديد عنوان الرسم والمحاور\n",
    "plt.title('Price vs Rating')\n",
    "plt.xlabel('Price')\n",
    "plt.ylabel('Rating')\n",
    "\n",
    "plt.legend(title='Rating', bbox_to_anchor=(1.05, 1), loc='upper left')\n",
    "\n",
    "\n",
    "plt.show()\n"
   ]
  },
  {
   "cell_type": "code",
   "execution_count": 9,
   "id": "7a54d679",
   "metadata": {},
   "outputs": [
    {
     "name": "stdout",
     "output_type": "stream",
     "text": [
      "Requirement already satisfied: pymongo[srv] in d:\\anaconda\\lib\\site-packages (4.12.1)\n",
      "Requirement already satisfied: dnspython<3.0.0,>=1.16.0 in d:\\anaconda\\lib\\site-packages (from pymongo[srv]) (2.7.0)\n"
     ]
    },
    {
     "name": "stderr",
     "output_type": "stream",
     "text": [
      "WARNING: pymongo 4.12.1 does not provide the extra 'srv'\n"
     ]
    }
   ],
   "source": [
    "!pip install \"pymongo[srv]\"\n"
   ]
  },
  {
   "cell_type": "code",
   "execution_count": 10,
   "id": "d6fc7de3",
   "metadata": {},
   "outputs": [
    {
     "name": "stdout",
     "output_type": "stream",
     "text": [
      "Requirement already satisfied: dnspython in d:\\anaconda\\lib\\site-packages (2.7.0)\n",
      "Note: you may need to restart the kernel to use updated packages.\n"
     ]
    }
   ],
   "source": [
    "pip install dnspython\n"
   ]
  },
  {
   "cell_type": "code",
   "execution_count": null,
   "id": "9146aebd",
   "metadata": {},
   "outputs": [],
   "source": [
    "pip show pymongo\n"
   ]
  },
  {
   "cell_type": "code",
   "execution_count": 13,
   "id": "58092b37",
   "metadata": {},
   "outputs": [],
   "source": [
    "from pymongo import MongoClient"
   ]
  },
  {
   "cell_type": "code",
   "execution_count": null,
   "id": "572f62bc-532e-4d36-a5a5-9b9a6b0edad1",
   "metadata": {},
   "outputs": [
    {
     "name": "stdout",
     "output_type": "stream",
     "text": [
      "{'_id': ObjectId('6813fdcfb0babd5385db5a69'), 'name': 'John', 'age': 30}\n",
      "{'_id': ObjectId('6813fe54b0babd5385db5a6b'), 'Title': 'A Light in the Attic', 'Price': 51.77, 'Rating': 3}\n",
      "{'_id': ObjectId('6813fe54b0babd5385db5a6c'), 'Title': 'Tipping the Velvet', 'Price': 53.74, 'Rating': 1}\n",
      "{'_id': ObjectId('6813fe54b0babd5385db5a6d'), 'Title': 'Soumission', 'Price': 50.1, 'Rating': 1}\n",
      "{'_id': ObjectId('6813fe54b0babd5385db5a6e'), 'Title': 'Sharp Objects', 'Price': 47.82, 'Rating': 4}\n"
     ]
    }
   ],
   "source": [
    "\n",
    "#ا\n",
    "\n",
    "# الاتصال بـ MongoDB\n",
    "client = MongoClient(uri)\n",
    "\n",
    "db = client['mydatabase'] \n",
    "collection = db['mycollection']  \n",
    "document = {\"name\": \"John\", \"age\": 30}\n",
    "collection.insert_one(document)\n",
    "\n",
    "# \n",
    "for doc in collection.find().limit(5):\n",
    "    print(doc)\n",
    "\n",
    "#  kollohhassan  U0fv7c6raqnqN5TO"
   ]
  },
  {
   "cell_type": "code",
   "execution_count": null,
   "id": "72271b86-0d8d-40a5-9ba0-ff55b03d5a5e",
   "metadata": {},
   "outputs": [
    {
     "name": "stdout",
     "output_type": "stream",
     "text": [
      "{'_id': ObjectId('6813fdcfb0babd5385db5a69'), 'name': 'John', 'age': 30}\n",
      "{'_id': ObjectId('6813fe54b0babd5385db5a6b'), 'Title': 'A Light in the Attic', 'Price': 51.77, 'Rating': 3}\n",
      "{'_id': ObjectId('6813fe54b0babd5385db5a6c'), 'Title': 'Tipping the Velvet', 'Price': 53.74, 'Rating': 1}\n",
      "{'_id': ObjectId('6813fe54b0babd5385db5a6d'), 'Title': 'Soumission', 'Price': 50.1, 'Rating': 1}\n",
      "{'_id': ObjectId('6813fe54b0babd5385db5a6e'), 'Title': 'Sharp Objects', 'Price': 47.82, 'Rating': 4}\n"
     ]
    }
   ],
   "source": [
    "import pandas as pd\n",
    "from pymongo import MongoClient\n",
    "\n",
    "# data prossecing\n",
    "df = pd.read_csv('books_data_cleaned.csv')  # أو أي DataFrame انت عملته\n",
    "# data frame to dict\n",
    "data_dict = df.to_dict(orient='records')\n",
    "\n",
    "# MongoDB Atlas URI\n",
    "# connect to data base\n",
    "client = MongoClient(uri)\n",
    "db = client[\"mydatabase\"]\n",
    "collection = db[\"mycollection\"]         \n",
    "\n",
    "# ح\n",
    "collection.insert_many(data_dict)\n",
    "\n",
    "# first 5 books \n",
    "for book in collection.find().limit(5):\n",
    "    print(book)\n"
   ]
  },
  {
   "cell_type": "code",
   "execution_count": 16,
   "id": "7eeaafde-71b0-4e58-93bc-be39f2f1e821",
   "metadata": {},
   "outputs": [
    {
     "name": "stdout",
     "output_type": "stream",
     "text": [
      "{'_id': ObjectId('67fd69014b9c8857411bc12e'), 'Title': 'A Light in the Attic', 'Price': 51.77, 'Rating': 3}\n",
      "{'_id': ObjectId('67fd69014b9c8857411bc12f'), 'Title': 'Tipping the Velvet', 'Price': 53.74, 'Rating': 1}\n",
      "{'_id': ObjectId('67fd69014b9c8857411bc130'), 'Title': 'Soumission', 'Price': 50.1, 'Rating': 1}\n",
      "{'_id': ObjectId('67fd69014b9c8857411bc131'), 'Title': 'Sharp Objects', 'Price': 47.82, 'Rating': 4}\n",
      "{'_id': ObjectId('67fd69014b9c8857411bc132'), 'Title': 'Sapiens: A Brief History of Humankind', 'Price': 54.23, 'Rating': 5}\n"
     ]
    }
   ],
   "source": [
    "from pymongo import MongoClient\n",
    "import pandas as pd\n",
    "\n",
    "# قراءة ملف البيانات (مثال)\n",
    "df = pd.read_csv('books_data_cleaned.csv')\n",
    "data_dict = df.to_dict(orient='records')\n",
    "\n",
    "\n",
    "# اconnect\n",
    "client = MongoClient(uri)\n",
    "db = client[\"books\"]\n",
    "collection = db[\"processedBooks\"]\n",
    "\n",
    "collection.insert_many(data_dict)\n",
    "# first 5 \n",
    "for book in collection.find().limit(5):\n",
    "    print(book)\n"
   ]
  },
  {
   "cell_type": "code",
   "execution_count": null,
   "id": "a6c33e0c-a546-419f-a7d8-d49692b2b0c0",
   "metadata": {},
   "outputs": [],
   "source": []
  }
 ],
 "metadata": {
  "kernelspec": {
   "display_name": "base",
   "language": "python",
   "name": "python3"
  },
  "language_info": {
   "codemirror_mode": {
    "name": "ipython",
    "version": 3
   },
   "file_extension": ".py",
   "mimetype": "text/x-python",
   "name": "python",
   "nbconvert_exporter": "python",
   "pygments_lexer": "ipython3",
   "version": "3.12.7"
  }
 },
 "nbformat": 4,
 "nbformat_minor": 5
}
